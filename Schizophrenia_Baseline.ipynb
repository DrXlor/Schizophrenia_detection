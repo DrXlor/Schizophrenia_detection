{
 "cells": [
  {
   "cell_type": "code",
   "execution_count": 21,
   "metadata": {
    "collapsed": true
   },
   "outputs": [],
   "source": [
    "import pickle\n",
    "import numpy as np\n",
    "import pandas as pd\n",
    "from sklearn.feature_selection import SelectKBest\n",
    "from sklearn.feature_selection import f_classif\n",
    "from sklearn.preprocessing import LabelEncoder\n",
    "from sklearn.metrics import accuracy_score\n",
    "from catboost import CatBoostClassifier\n",
    "from sklearn.svm import SVC\n",
    "from sklearn.metrics import r2_score as r2\n",
    "from sklearn.metrics import mean_absolute_error\n",
    "from sklearn.metrics import mean_squared_error\n",
    "from sklearn.model_selection import train_test_split\n",
    "import matplotlib.pyplot as plt\n",
    "import seaborn as sns"
   ]
  },
  {
   "cell_type": "code",
   "execution_count": 13,
   "outputs": [],
   "source": [
    "X = pd.read_pickle(\"../../BIO_Ml/Schizophrenia/all_in_one/mvals_train_val.pkl\")\n",
    "y = pd.read_pickle(\"../../BIO_Ml/Schizophrenia/all_in_one/pheno_train_val.pkl\")[\"Status\"]"
   ],
   "metadata": {
    "collapsed": false,
    "pycharm": {
     "name": "#%%\n"
    }
   }
  },
  {
   "cell_type": "code",
   "execution_count": 14,
   "outputs": [
    {
     "name": "stdout",
     "output_type": "stream",
     "text": [
      "            cg18147296  cg13938959  cg12445832  cg23999112  cg11527153  \\\n",
      "subject_id                                                               \n",
      "GSM4599914    2.782413    0.851165    0.032913    1.364599    3.032113   \n",
      "GSM4599916    2.701369    1.287377   -0.190345    0.990031    2.807168   \n",
      "GSM4599917    2.885255    1.520263   -0.252335    1.110806    3.030559   \n",
      "GSM4599919    2.923073    1.671875    0.420866    1.780347    3.241726   \n",
      "GSM4599923    2.980318    0.933940   -0.380690    1.062428    2.671962   \n",
      "\n",
      "            cg04195702  cg08128007  cg23733394  cg13371836  cg04407431  ...  \\\n",
      "subject_id                                                              ...   \n",
      "GSM4599914    2.634709    2.214149   -1.276048   -4.865051   -5.738301  ...   \n",
      "GSM4599916    2.935700    2.210422   -1.702410   -4.605803   -5.412559  ...   \n",
      "GSM4599917    2.801079    2.189689   -0.609550   -4.858282   -4.824097  ...   \n",
      "GSM4599919    2.663053    2.696005    1.214487   -4.644687   -5.169855  ...   \n",
      "GSM4599923    3.113873    2.449270   -0.609550   -4.653441   -5.338040  ...   \n",
      "\n",
      "            cg21216258  cg14380408  cg13890552  cg14140691  cg13406243  \\\n",
      "subject_id                                                               \n",
      "GSM4599914    0.746754    3.966398    2.854498    0.437453    2.129861   \n",
      "GSM4599916   -0.231637    4.210590    3.444710    1.125577    2.298344   \n",
      "GSM4599917    0.108778    4.080372    3.319977    0.808856    1.818632   \n",
      "GSM4599919    0.511988    4.498434    3.803284    0.801761    2.308558   \n",
      "GSM4599923    0.411951    3.865846    3.445553    1.013767    2.126114   \n",
      "\n",
      "            cg07982825  cg13782905  cg14491707  cg13811936  cg14022794  \n",
      "subject_id                                                              \n",
      "GSM4599914    2.624830    3.993855    0.298417   -2.782943   -0.893106  \n",
      "GSM4599916    2.683151    3.592596    0.903871   -2.298502   -0.064619  \n",
      "GSM4599917    2.402858    3.882170    0.772152   -2.038642   -0.349721  \n",
      "GSM4599919    2.706473    4.304293    0.596088   -2.193744   -0.537533  \n",
      "GSM4599923    3.131966    3.279936    0.731300   -2.722584   -1.704023  \n",
      "\n",
      "[5 rows x 361390 columns]\n",
      "subject_id\n",
      "GSM4599914          Control\n",
      "GSM4599916          Control\n",
      "GSM4599917    Schizophrenia\n",
      "GSM4599919    Schizophrenia\n",
      "GSM4599923    Schizophrenia\n",
      "Name: Status, dtype: object\n"
     ]
    }
   ],
   "source": [
    "print(X.head())\n",
    "print(y.head())"
   ],
   "metadata": {
    "collapsed": false,
    "pycharm": {
     "name": "#%%\n"
    }
   }
  },
  {
   "cell_type": "code",
   "execution_count": 15,
   "outputs": [
    {
     "data": {
      "text/plain": "array([0, 0, 1, ..., 1, 0, 1])"
     },
     "execution_count": 15,
     "metadata": {},
     "output_type": "execute_result"
    }
   ],
   "source": [
    "LabelEncoder().fit_transform(y)"
   ],
   "metadata": {
    "collapsed": false,
    "pycharm": {
     "name": "#%%\n"
    }
   }
  },
  {
   "cell_type": "code",
   "execution_count": 16,
   "outputs": [],
   "source": [
    "selector_k = SelectKBest(score_func=f_classif, k=42)\n",
    "fit = selector_k.fit(X, y)\n",
    "cols = selector_k.get_support(indices=True)\n",
    "X = X.iloc[:, cols]"
   ],
   "metadata": {
    "collapsed": false,
    "pycharm": {
     "name": "#%%\n"
    }
   }
  },
  {
   "cell_type": "code",
   "execution_count": 17,
   "outputs": [
    {
     "name": "stdout",
     "output_type": "stream",
     "text": [
      "            cg10965178  cg25189904  cg18146737  cg12876356  cg09935388  \\\n",
      "subject_id                                                               \n",
      "GSM4599914    1.388475    0.471740    3.745057    2.856152    3.358144   \n",
      "GSM4599916    0.839563    0.008171    3.484540    2.644214    2.316867   \n",
      "GSM4599917    1.294634   -0.609612    3.600989    2.937003    2.239259   \n",
      "GSM4599919    0.852602   -0.690282    3.438784    2.765450    1.768755   \n",
      "GSM4599923    0.603311    0.023150    3.576290    3.184614    3.090377   \n",
      "\n",
      "            cg10750182  cg03450842  cg01901332  cg11660018  cg23351584  ...  \\\n",
      "subject_id                                                              ...   \n",
      "GSM4599914    0.493590    1.097806    1.607194    0.520377   -2.257478  ...   \n",
      "GSM4599916    0.482315    0.808447    1.026122    0.787722   -2.227517  ...   \n",
      "GSM4599917    0.667213    0.958467    1.248929    0.767120   -2.498545  ...   \n",
      "GSM4599919    0.768134    0.508264    0.831420    0.170664   -2.816684  ...   \n",
      "GSM4599923    0.632573    0.868059    1.183323    0.267347   -2.917363  ...   \n",
      "\n",
      "            cg06126421  cg14753356  cg24859433  cg15342087  cg00782811  \\\n",
      "subject_id                                                               \n",
      "GSM4599914    2.326101    0.053149    3.036165    2.809800   -1.148455   \n",
      "GSM4599916    1.515372   -1.048749    2.468061    2.545936   -0.918776   \n",
      "GSM4599917    2.023694   -0.378625    2.965265    2.752640   -1.258866   \n",
      "GSM4599919    1.114106   -0.849456    2.639707    2.423809   -0.981498   \n",
      "GSM4599923    1.833306   -0.323004    3.021069    2.734430   -1.069020   \n",
      "\n",
      "            cg09022230  cg02451831  cg22132788  cg25949550  cg01692968  \n",
      "subject_id                                                              \n",
      "GSM4599914    2.163313    1.709447    2.100855   -2.767624    0.009042  \n",
      "GSM4599916    1.438019    1.417381    3.595665   -2.811866   -0.442539  \n",
      "GSM4599917    1.567997    2.143555    4.660419   -3.265581   -0.374719  \n",
      "GSM4599919    1.806916    1.980283    2.977464   -2.749813   -0.970850  \n",
      "GSM4599923    1.813352    1.720046    2.458125   -2.745174   -0.747129  \n",
      "\n",
      "[5 rows x 42 columns]\n"
     ]
    }
   ],
   "source": [
    "print(X.head())"
   ],
   "metadata": {
    "collapsed": false,
    "pycharm": {
     "name": "#%%\n"
    }
   }
  },
  {
   "cell_type": "code",
   "execution_count": 18,
   "outputs": [],
   "source": [
    "X_train, X_test, y_train, y_test = train_test_split(X, y, test_size=0.4, random_state=42, shuffle=True, stratify=y)"
   ],
   "metadata": {
    "collapsed": false,
    "pycharm": {
     "name": "#%%\n"
    }
   }
  },
  {
   "cell_type": "code",
   "execution_count": 26,
   "outputs": [],
   "source": [
    "classifier = SVC(kernel=\"poly\", C=1.5)\n",
    "#classifier = CatBoostClassifier(silent=True)\n",
    "model = classifier.fit(X_train, y_train)\n",
    "y_pred = classifier.predict(X_test)"
   ],
   "metadata": {
    "collapsed": false,
    "pycharm": {
     "name": "#%%\n"
    }
   }
  },
  {
   "cell_type": "code",
   "execution_count": 27,
   "outputs": [
    {
     "name": "stdout",
     "output_type": "stream",
     "text": [
      "0.7555831265508685\n"
     ]
    }
   ],
   "source": [
    "print(accuracy_score(y_true=y_test, y_pred=y_pred, normalize=True))"
   ],
   "metadata": {
    "collapsed": false,
    "pycharm": {
     "name": "#%%\n"
    }
   }
  }
 ],
 "metadata": {
  "kernelspec": {
   "display_name": "Python 3",
   "language": "python",
   "name": "python3"
  },
  "language_info": {
   "codemirror_mode": {
    "name": "ipython",
    "version": 2
   },
   "file_extension": ".py",
   "mimetype": "text/x-python",
   "name": "python",
   "nbconvert_exporter": "python",
   "pygments_lexer": "ipython2",
   "version": "2.7.6"
  }
 },
 "nbformat": 4,
 "nbformat_minor": 0
}