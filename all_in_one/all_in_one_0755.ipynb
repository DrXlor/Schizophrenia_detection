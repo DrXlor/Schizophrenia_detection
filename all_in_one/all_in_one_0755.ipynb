{
 "cells": [
  {
   "cell_type": "code",
   "execution_count": 10,
   "metadata": {
    "collapsed": true
   },
   "outputs": [],
   "source": [
    "import pandas as pd\n",
    "from sklearn.feature_selection import SelectKBest, f_classif\n",
    "from sklearn.preprocessing import LabelEncoder\n",
    "from sklearn.metrics import accuracy_score\n",
    "from sklearn.svm import SVC\n",
    "from sklearn.model_selection import train_test_split\n",
    "from sklearn.metrics import ConfusionMatrixDisplay, classification_report\n",
    "random_state = 42"
   ]
  },
  {
   "cell_type": "code",
   "execution_count": 2,
   "outputs": [],
   "source": [
    "X = pd.read_pickle(\"../../../BIO_Ml/Schizophrenia/one_by_one/mvals_train_val.pkl\")\n",
    "y = pd.read_pickle(\"../../../BIO_Ml/Schizophrenia/one_by_one/pheno_train_val.pkl\")[\"Status\"]"
   ],
   "metadata": {
    "collapsed": false,
    "pycharm": {
     "name": "#%%\n"
    }
   }
  },
  {
   "cell_type": "code",
   "execution_count": 3,
   "outputs": [
    {
     "name": "stdout",
     "output_type": "stream",
     "text": [
      "            cg18147296  cg13938959  cg12445832  cg23999112  cg11527153  \\\n",
      "subject_id                                                               \n",
      "GSM4599914    2.762321    0.843977   -0.016555    1.372435    3.005380   \n",
      "GSM4599916    2.685985    1.294113   -0.249022    0.993145    2.790599   \n",
      "GSM4599917    2.854838    1.527030   -0.310427    1.113818    3.004341   \n",
      "GSM4599919    2.889056    1.682198    0.389953    1.793420    3.201766   \n",
      "GSM4599923    2.943605    0.930647   -0.436929    1.068895    2.669822   \n",
      "\n",
      "            cg04195702  cg08128007  cg23733394  cg13371836  cg04407431  ...  \\\n",
      "subject_id                                                              ...   \n",
      "GSM4599914    2.615756    2.206671   -1.367863   -4.865131   -5.510768  ...   \n",
      "GSM4599916    2.906080    2.203198   -1.799485   -4.631597   -5.251224  ...   \n",
      "GSM4599917    2.778681    2.183322   -0.678120   -4.859093   -4.796586  ...   \n",
      "GSM4599919    2.643427    2.676389    1.185422   -4.666803   -5.072614  ...   \n",
      "GSM4599923    3.079156    2.438314   -0.678120   -4.674425   -5.195163  ...   \n",
      "\n",
      "            cg21216258  cg14380408  cg13890552  cg14140691  cg13406243  \\\n",
      "subject_id                                                               \n",
      "GSM4599914    0.718984    3.838583    2.826601    0.418346    2.123581   \n",
      "GSM4599916   -0.300630    4.029152    3.369204    1.145621    2.291209   \n",
      "GSM4599917    0.055818    3.927420    3.254622    0.802649    1.816009   \n",
      "GSM4599919    0.468983    4.236782    3.679147    0.796004    2.300642   \n",
      "GSM4599923    0.371622    3.755003    3.369844    1.028399    2.119412   \n",
      "\n",
      "            cg07982825  cg13782905  cg14491707  cg13811936  cg14022794  \n",
      "subject_id                                                              \n",
      "GSM4599914    2.631846    3.884113    0.247461   -2.818208   -0.923325  \n",
      "GSM4599916    2.684450    3.501409    0.878748   -2.341327   -0.108432  \n",
      "GSM4599917    2.415308    3.785972    0.744924   -2.081761   -0.400462  \n",
      "GSM4599919    2.706941    4.187879    0.560396   -2.236971   -0.583920  \n",
      "GSM4599923    3.122570    3.223462    0.700166   -2.774303   -1.766722  \n",
      "\n",
      "[5 rows x 361390 columns]\n",
      "[0 0 1 ... 1 0 1]\n"
     ]
    }
   ],
   "source": [
    "print(X.head())\n",
    "y = LabelEncoder().fit_transform(y)\n",
    "print(y)"
   ],
   "metadata": {
    "collapsed": false,
    "pycharm": {
     "name": "#%%\n"
    }
   }
  },
  {
   "cell_type": "code",
   "execution_count": 4,
   "outputs": [],
   "source": [
    "selector_k = SelectKBest(score_func=f_classif, k=42)\n",
    "fit = selector_k.fit(X, y)\n",
    "cols = selector_k.get_support(indices=True)\n",
    "X = X.iloc[:, cols]"
   ],
   "metadata": {
    "collapsed": false,
    "pycharm": {
     "name": "#%%\n"
    }
   }
  },
  {
   "cell_type": "code",
   "execution_count": 6,
   "outputs": [],
   "source": [
    "X_train, X_test, y_train, y_test = train_test_split(X, y,\n",
    "                                                    test_size=0.4,\n",
    "                                                    random_state=random_state,\n",
    "                                                    shuffle=True,\n",
    "                                                    stratify=y)"
   ],
   "metadata": {
    "collapsed": false,
    "pycharm": {
     "name": "#%%\n"
    }
   }
  },
  {
   "cell_type": "code",
   "execution_count": 7,
   "outputs": [],
   "source": [
    "classifier = SVC(kernel=\"poly\",\n",
    "                 C=1.5,\n",
    "                 random_state=random_state)\n",
    "classifier.fit(X_train, y_train)\n",
    "y_pred = classifier.predict(X_test)"
   ],
   "metadata": {
    "collapsed": false,
    "pycharm": {
     "name": "#%%\n"
    }
   }
  },
  {
   "cell_type": "code",
   "execution_count": 12,
   "outputs": [
    {
     "name": "stdout",
     "output_type": "stream",
     "text": [
      "              precision    recall  f1-score   support\n",
      "\n",
      "           0       0.75      0.77      0.76       383\n",
      "           1       0.79      0.77      0.78       423\n",
      "\n",
      "    accuracy                           0.77       806\n",
      "   macro avg       0.77      0.77      0.77       806\n",
      "weighted avg       0.77      0.77      0.77       806\n",
      "\n"
     ]
    },
    {
     "data": {
      "text/plain": "<sklearn.metrics._plot.confusion_matrix.ConfusionMatrixDisplay at 0x213ad218dc0>"
     },
     "execution_count": 12,
     "metadata": {},
     "output_type": "execute_result"
    },
    {
     "data": {
      "text/plain": "<Figure size 432x288 with 2 Axes>",
      "image/png": "[encoded data removed]"
     },
     "metadata": {
      "needs_background": "light"
     },
     "output_type": "display_data"
    }
   ],
   "source": [
    "print(classification_report(y_true=y_test, y_pred=y_pred))\n",
    "ConfusionMatrixDisplay.from_predictions(y_true=y_test, y_pred=y_pred)"
   ],
   "metadata": {
    "collapsed": false,
    "pycharm": {
     "name": "#%%\n"
    }
   }
  },
  {
   "cell_type": "code",
   "execution_count": 8,
   "outputs": [],
   "source": [],
   "metadata": {
    "collapsed": false,
    "pycharm": {
     "name": "#%%"
    }
   }
  }
 ],
 "metadata": {
  "kernelspec": {
   "display_name": "Python 3",
   "language": "python",
   "name": "python3"
  },
  "language_info": {
   "codemirror_mode": {
    "name": "ipython",
    "version": 2
   },
   "file_extension": ".py",
   "mimetype": "text/x-python",
   "name": "python",
   "nbconvert_exporter": "python",
   "pygments_lexer": "ipython2",
   "version": "2.7.6"
  }
 },
 "nbformat": 4,
 "nbformat_minor": 0
}