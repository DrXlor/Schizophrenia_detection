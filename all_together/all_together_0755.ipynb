{
 "cells": [
  {
   "cell_type": "code",
   "execution_count": 3,
   "metadata": {
    "collapsed": true
   },
   "outputs": [],
   "source": [
    "import pickle\n",
    "import numpy as np\n",
    "import pandas as pd\n",
    "from sklearn.feature_selection import SelectKBest\n",
    "from sklearn.feature_selection import f_classif\n",
    "from sklearn.preprocessing import LabelEncoder\n",
    "from sklearn.metrics import accuracy_score\n",
    "from catboost import CatBoostClassifier\n",
    "from sklearn.svm import SVC\n",
    "from sklearn.metrics import r2_score as r2\n",
    "from sklearn.metrics import mean_absolute_error\n",
    "from sklearn.metrics import mean_squared_error\n",
    "from sklearn.model_selection import train_test_split\n",
    "import matplotlib.pyplot as plt\n",
    "import seaborn as sns"
   ]
  },
  {
   "cell_type": "code",
   "execution_count": 4,
   "outputs": [],
   "source": [
    "X = pd.read_pickle(\"../../../BIO_Ml/Schizophrenia/all_together/mvals_train_val.pkl\")\n",
    "y = pd.read_pickle(\"../../../BIO_Ml/Schizophrenia/all_together/pheno_train_val.pkl\")[\"Status\"]"
   ],
   "metadata": {
    "collapsed": false,
    "pycharm": {
     "name": "#%%\n"
    }
   }
  },
  {
   "cell_type": "code",
   "execution_count": 5,
   "outputs": [
    {
     "name": "stdout",
     "output_type": "stream",
     "text": [
      "            cg11938738  cg05136169  cg17098965  cg22443212  cg22717825  \\\n",
      "subject_id                                                               \n",
      "GSM4599914    2.392195   -0.106422   -0.947414   -0.898284    1.473975   \n",
      "GSM4599916    2.199049    0.340245   -1.400348    1.525447    2.051028   \n",
      "GSM4599917    2.162752    0.296842   -1.480394    1.631085    2.021492   \n",
      "GSM4599919    2.519547    0.090900   -1.122953    1.434173    1.897187   \n",
      "GSM4599923    2.337364    0.140812   -0.948927    0.100152    1.706388   \n",
      "\n",
      "            cg03740840  cg20546928  cg26421734  cg22098660  cg11754357  ...  \\\n",
      "subject_id                                                              ...   \n",
      "GSM4599914    3.525236   -4.426934    0.791375   -0.112244    2.301041  ...   \n",
      "GSM4599916    3.509006   -3.725611    1.860932   -0.648269    2.358759  ...   \n",
      "GSM4599917    3.459963   -3.994612    1.645936   -0.264415    2.353951  ...   \n",
      "GSM4599919    3.419996   -4.358638    1.558920    0.379176    2.486296  ...   \n",
      "GSM4599923    3.604115   -4.170576    1.641499   -0.413061    2.465235  ...   \n",
      "\n",
      "            cg19618483  cg02355680  cg04180668  cg06815910  cg13356354  \\\n",
      "subject_id                                                               \n",
      "GSM4599914   -4.251793    2.873433   -3.466008    1.415701   -4.514428   \n",
      "GSM4599916   -4.519820    2.893127   -3.795931    1.546572   -4.240923   \n",
      "GSM4599917   -4.357603    2.814447   -3.809955    1.448576   -4.340061   \n",
      "GSM4599919   -4.109533    3.108035   -3.659424    1.137039   -4.304094   \n",
      "GSM4599923   -4.638478    3.079798   -3.734617    1.688495   -4.374158   \n",
      "\n",
      "            cg05911082  cg16859931  cg26216876  cg07496902  cg09382127  \n",
      "subject_id                                                              \n",
      "GSM4599914    1.578586    2.511668    0.390176    2.462878   -1.968823  \n",
      "GSM4599916    1.920026    2.967201   -0.298380    3.303388   -2.983077  \n",
      "GSM4599917    2.486792    3.039009   -0.188577    3.365185   -2.713014  \n",
      "GSM4599919    2.009538    3.115879    0.175491    3.176693   -2.744360  \n",
      "GSM4599923    1.916451    2.992140    0.188867    3.029772   -2.533362  \n",
      "\n",
      "[5 rows x 361390 columns]\n",
      "subject_id\n",
      "GSM4599914          Control\n",
      "GSM4599916          Control\n",
      "GSM4599917    Schizophrenia\n",
      "GSM4599919    Schizophrenia\n",
      "GSM4599923    Schizophrenia\n",
      "Name: Status, dtype: object\n"
     ]
    }
   ],
   "source": [
    "print(X.head())\n",
    "print(y.head())"
   ],
   "metadata": {
    "collapsed": false,
    "pycharm": {
     "name": "#%%\n"
    }
   }
  },
  {
   "cell_type": "code",
   "execution_count": 6,
   "outputs": [
    {
     "data": {
      "text/plain": "array([0, 0, 1, ..., 1, 0, 1])"
     },
     "execution_count": 6,
     "metadata": {},
     "output_type": "execute_result"
    }
   ],
   "source": [
    "LabelEncoder().fit_transform(y)"
   ],
   "metadata": {
    "collapsed": false,
    "pycharm": {
     "name": "#%%\n"
    }
   }
  },
  {
   "cell_type": "code",
   "execution_count": 7,
   "outputs": [],
   "source": [
    "selector_k = SelectKBest(score_func=f_classif, k=42)\n",
    "fit = selector_k.fit(X, y)\n",
    "cols = selector_k.get_support(indices=True)\n",
    "X = X.iloc[:, cols]"
   ],
   "metadata": {
    "collapsed": false,
    "pycharm": {
     "name": "#%%\n"
    }
   }
  },
  {
   "cell_type": "code",
   "execution_count": 8,
   "outputs": [
    {
     "name": "stdout",
     "output_type": "stream",
     "text": [
      "            cg23161492  cg01940273  cg04359840  cg05284742  cg12876356  \\\n",
      "subject_id                                                               \n",
      "GSM4599914   -0.945633    0.244427    0.460433    0.957817    1.470769   \n",
      "GSM4599916   -2.052860    0.656211   -0.202423    1.115734    1.600567   \n",
      "GSM4599917   -1.645703    0.473426   -0.072621    0.915917    1.891262   \n",
      "GSM4599919   -2.040649    0.024764   -0.098579    1.140013    1.700505   \n",
      "GSM4599923   -1.770344    0.574497   -0.299512    1.063892    2.065052   \n",
      "\n",
      "            cg01901332  cg23771366  cg24838345  cg06126421  cg24090911  ...  \\\n",
      "subject_id                                                              ...   \n",
      "GSM4599914    0.855323   -0.425622    1.883315    1.379092    2.080153  ...   \n",
      "GSM4599916    0.409607   -0.518437    1.707011    0.848379    0.893755  ...   \n",
      "GSM4599917    0.632914   -0.507348    1.658868    1.304046    1.146078  ...   \n",
      "GSM4599919    0.188755   -1.035457    1.366013    0.407702    0.920414  ...   \n",
      "GSM4599923    0.540773   -0.649481    1.508350    1.107148    1.249544  ...   \n",
      "\n",
      "            cg00073090  cg03450842  cg26337070  cg07986378  cg10420527  \\\n",
      "subject_id                                                               \n",
      "GSM4599914   -0.723629    0.484389    1.167571    0.442094    0.021562   \n",
      "GSM4599916   -1.168577    0.193786    1.187005   -0.170399   -0.366870   \n",
      "GSM4599917   -1.324833    0.361482    1.249238    0.213548   -0.429910   \n",
      "GSM4599919   -1.616291   -0.097492    0.770852    0.101729   -0.557795   \n",
      "GSM4599923   -0.903346    0.246474    0.605546    0.251765   -0.555176   \n",
      "\n",
      "            cg01208318  cg24859433  cg10750182  cg13038618  cg14580211  \n",
      "subject_id                                                              \n",
      "GSM4599914   -0.470659    2.024090    0.117351   -0.389353    1.200102  \n",
      "GSM4599916   -1.041792    1.792503   -0.083630   -0.248130    0.489204  \n",
      "GSM4599917   -0.916893    2.183022    0.121598   -0.001520    0.365922  \n",
      "GSM4599919   -0.170432    1.906096    0.135297   -0.186301    0.615830  \n",
      "GSM4599923   -1.286731    2.213858    0.074899   -0.330566    0.836718  \n",
      "\n",
      "[5 rows x 42 columns]\n"
     ]
    }
   ],
   "source": [
    "print(X.head())"
   ],
   "metadata": {
    "collapsed": false,
    "pycharm": {
     "name": "#%%\n"
    }
   }
  },
  {
   "cell_type": "code",
   "execution_count": 9,
   "outputs": [],
   "source": [
    "X_train, X_test, y_train, y_test = train_test_split(X, y, test_size=0.4, random_state=42, shuffle=True, stratify=y)"
   ],
   "metadata": {
    "collapsed": false,
    "pycharm": {
     "name": "#%%\n"
    }
   }
  },
  {
   "cell_type": "code",
   "execution_count": 10,
   "outputs": [],
   "source": [
    "classifier = SVC(kernel=\"poly\", C=1.5)\n",
    "#classifier = CatBoostClassifier(silent=True)\n",
    "model = classifier.fit(X_train, y_train)\n",
    "y_pred = classifier.predict(X_test)"
   ],
   "metadata": {
    "collapsed": false,
    "pycharm": {
     "name": "#%%\n"
    }
   }
  },
  {
   "cell_type": "code",
   "execution_count": 11,
   "outputs": [
    {
     "name": "stdout",
     "output_type": "stream",
     "text": [
      "0.7593052109181141\n"
     ]
    }
   ],
   "source": [
    "print(accuracy_score(y_true=y_test, y_pred=y_pred, normalize=True))"
   ],
   "metadata": {
    "collapsed": false,
    "pycharm": {
     "name": "#%%\n"
    }
   }
  }
 ],
 "metadata": {
  "kernelspec": {
   "display_name": "Python 3",
   "language": "python",
   "name": "python3"
  },
  "language_info": {
   "codemirror_mode": {
    "name": "ipython",
    "version": 2
   },
   "file_extension": ".py",
   "mimetype": "text/x-python",
   "name": "python",
   "nbconvert_exporter": "python",
   "pygments_lexer": "ipython2",
   "version": "2.7.6"
  }
 },
 "nbformat": 4,
 "nbformat_minor": 0
}