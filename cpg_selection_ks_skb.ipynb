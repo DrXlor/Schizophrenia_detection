{
 "cells": [
  {
   "cell_type": "code",
   "execution_count": 1,
   "metadata": {
    "collapsed": true
   },
   "outputs": [],
   "source": [
    "import numpy as np\n",
    "import pandas as pd\n",
    "from sklearn.preprocessing import LabelEncoder\n",
    "#from numba import jit, cuda"
   ]
  },
  {
   "cell_type": "code",
   "execution_count": 2,
   "outputs": [
    {
     "name": "stdout",
     "output_type": "stream",
     "text": [
      "subject_id\n",
      "GSM4599914          Control\n",
      "GSM4599916          Control\n",
      "GSM4599917    Schizophrenia\n",
      "GSM4599919    Schizophrenia\n",
      "GSM4599923    Schizophrenia\n",
      "                  ...      \n",
      "GSM2126304          Control\n",
      "GSM2126543          Control\n",
      "GSM2126657    Schizophrenia\n",
      "GSM2126455          Control\n",
      "GSM2126599    Schizophrenia\n",
      "Name: Status, Length: 2015, dtype: object\n"
     ]
    }
   ],
   "source": [
    "df_x = pd.read_pickle(\"../../BIO_Ml/Schizophrenia/one_by_one/mvals_train_val.pkl\")\n",
    "df_y = pd.read_pickle(\"../../BIO_Ml/Schizophrenia/one_by_one/pheno_train_val.pkl\")[\"Status\"]\n",
    "print(df_y)"
   ],
   "metadata": {
    "collapsed": false,
    "pycharm": {
     "name": "#%%\n"
    }
   }
  },
  {
   "cell_type": "code",
   "execution_count": 3,
   "outputs": [
    {
     "name": "stdout",
     "output_type": "stream",
     "text": [
      "[0 0 1 ... 1 0 1]\n"
     ]
    }
   ],
   "source": [
    "# control = 0\n",
    "df_y = LabelEncoder().fit_transform(df_y)\n",
    "print(df_y)"
   ],
   "metadata": {
    "collapsed": false,
    "pycharm": {
     "name": "#%%\n"
    }
   }
  },
  {
   "cell_type": "code",
   "execution_count": 4,
   "outputs": [
    {
     "name": "stdout",
     "output_type": "stream",
     "text": [
      "            cg18147296  cg13938959  cg12445832  cg23999112  cg11527153  \\\n",
      "subject_id                                                               \n",
      "GSM4599914    2.762321    0.843977   -0.016555    1.372435    3.005380   \n",
      "GSM4599916    2.685985    1.294113   -0.249022    0.993145    2.790599   \n",
      "GSM4599917    2.854838    1.527030   -0.310427    1.113818    3.004341   \n",
      "GSM4599919    2.889056    1.682198    0.389953    1.793420    3.201766   \n",
      "GSM4599923    2.943605    0.930647   -0.436929    1.068895    2.669822   \n",
      "\n",
      "            cg04195702  cg08128007  cg23733394  cg13371836  cg04407431  ...  \\\n",
      "subject_id                                                              ...   \n",
      "GSM4599914    2.615756    2.206671   -1.367863   -4.865131   -5.510768  ...   \n",
      "GSM4599916    2.906080    2.203198   -1.799485   -4.631597   -5.251224  ...   \n",
      "GSM4599917    2.778681    2.183322   -0.678120   -4.859093   -4.796586  ...   \n",
      "GSM4599919    2.643427    2.676389    1.185422   -4.666803   -5.072614  ...   \n",
      "GSM4599923    3.079156    2.438314   -0.678120   -4.674425   -5.195163  ...   \n",
      "\n",
      "            cg14380408  cg13890552  cg14140691  cg13406243  cg07982825  \\\n",
      "subject_id                                                               \n",
      "GSM4599914    3.838583    2.826601    0.418346    2.123581    2.631846   \n",
      "GSM4599916    4.029152    3.369204    1.145621    2.291209    2.684450   \n",
      "GSM4599917    3.927420    3.254622    0.802649    1.816009    2.415308   \n",
      "GSM4599919    4.236782    3.679147    0.796004    2.300642    2.706941   \n",
      "GSM4599923    3.755003    3.369844    1.028399    2.119412    3.122570   \n",
      "\n",
      "            cg13782905  cg14491707  cg13811936  cg14022794  status  \n",
      "subject_id                                                          \n",
      "GSM4599914    3.884113    0.247461   -2.818208   -0.923325       0  \n",
      "GSM4599916    3.501409    0.878748   -2.341327   -0.108432       0  \n",
      "GSM4599917    3.785972    0.744924   -2.081761   -0.400462       1  \n",
      "GSM4599919    4.187879    0.560396   -2.236971   -0.583920       1  \n",
      "GSM4599923    3.223462    0.700166   -2.774303   -1.766722       1  \n",
      "\n",
      "[5 rows x 361391 columns]\n"
     ]
    }
   ],
   "source": [
    "df_x[\"status\"] = df_y\n",
    "print(df_x.head())"
   ],
   "metadata": {
    "collapsed": false,
    "pycharm": {
     "name": "#%%\n"
    }
   }
  },
  {
   "cell_type": "code",
   "execution_count": 5,
   "outputs": [],
   "source": [
    "df_control = df_x[(df_x['status'] == 0)]\n",
    "df_schiz = df_x[(df_x['status'] == 1)]"
   ],
   "metadata": {
    "collapsed": false,
    "pycharm": {
     "name": "#%%\n"
    }
   }
  },
  {
   "cell_type": "code",
   "execution_count": 6,
   "outputs": [
    {
     "name": "stdout",
     "output_type": "stream",
     "text": [
      "0.917971526475926\n"
     ]
    }
   ],
   "source": [
    "from scipy.stats import ks_2samp\n",
    "\n",
    "print(ks_2samp(df_control[\"cg13782905\"], df_schiz[\"cg13782905\"])[1])"
   ],
   "metadata": {
    "collapsed": false,
    "pycharm": {
     "name": "#%%\n"
    }
   }
  },
  {
   "cell_type": "markdown",
   "source": [
    "### Отбор признаков по `p-value` в `k_test`.\n",
    "#### Отбор `100`, `200`, `300` признаков для дальнейшего обучения модели."
   ],
   "metadata": {
    "collapsed": false,
    "pycharm": {
     "name": "#%% md\n"
    }
   }
  },
  {
   "cell_type": "code",
   "execution_count": null,
   "outputs": [
    {
     "name": "stdout",
     "output_type": "stream",
     "text": [
      "361391\n"
     ]
    },
    {
     "data": {
      "text/plain": "  0%|          | 0/361391 [00:00<?, ?it/s]",
      "application/vnd.jupyter.widget-view+json": {
       "version_major": 2,
       "version_minor": 0,
       "model_id": "ca3b8404bf44470c83064ac47d435e9d"
      }
     },
     "metadata": {},
     "output_type": "display_data"
    }
   ],
   "source": [
    "from tqdm.notebook import tqdm\n",
    "\n",
    "df_len = df_control.shape[1]\n",
    "print(df_len)\n",
    "\n",
    "#@jit(target =\"cuda\")\n",
    "def get_cpg_p_ktest(df_healthy, df_ill):\n",
    "    cpg_p_values = []\n",
    "\n",
    "    def get_p_gen(df_healthy, df_ill):\n",
    "        for i in range(df_len-2): # -2 потому что в последнем элементе лежит status\n",
    "            yield df_healthy.columns[i], ks_2samp(df_healthy.iloc[:, i], df_ill.iloc[:, i])[0]\n",
    "\n",
    "    p_gen = get_p_gen(df_healthy, df_ill)\n",
    "    for p in tqdm(p_gen, total=df_len):\n",
    "        cpg_p_values.append(p)\n",
    "    return cpg_p_values\n",
    "\n",
    "\n",
    "cpg_p_values = get_cpg_p_ktest(df_control.drop('status', axis=1), df_schiz.drop('status', axis=1))"
   ],
   "metadata": {
    "collapsed": false,
    "pycharm": {
     "name": "#%%\n",
     "is_executing": true
    }
   }
  },
  {
   "cell_type": "markdown",
   "source": [
    "#### Бекап списка для каждого cpg-сайта в формате `(cpg-site[0], p-value[0]), ... , (cpg-site[n-1], p-value[n-1])`"
   ],
   "metadata": {
    "collapsed": false,
    "pycharm": {
     "name": "#%% md\n"
    }
   }
  },
  {
   "cell_type": "code",
   "execution_count": null,
   "outputs": [],
   "source": [
    "import pickle\n",
    "\n",
    "with open('feature_selection_results/cpg_p_values_unsorted.pkl', 'wb') as fp:\n",
    "    pickle.dump(cpg_p_values, fp)"
   ],
   "metadata": {
    "collapsed": false,
    "pycharm": {
     "name": "#%%\n",
     "is_executing": true
    }
   }
  },
  {
   "cell_type": "code",
   "execution_count": null,
   "outputs": [],
   "source": [
    "#cpg_p_values = pickle.load(fp)"
   ],
   "metadata": {
    "collapsed": false,
    "pycharm": {
     "name": "#%%with open('cpg_p_values_unsorted.pkl', 'rb') as fp:\n",
     "is_executing": true
    }
   }
  },
  {
   "cell_type": "markdown",
   "source": [
    "#### Сортировка, обрезка и сохранение списка cpg-сайтов"
   ],
   "metadata": {
    "collapsed": false,
    "pycharm": {
     "name": "#%% md\n"
    }
   }
  },
  {
   "cell_type": "code",
   "source": [
    "def sort_slice(values, n):\n",
    "    return sorted(values, key=lambda tup: tup[1], reverse=True)[:n]\n",
    "\n",
    "\n",
    "top_100_cpgs_ktest = sort_slice(cpg_p_values, 100)\n",
    "\n",
    "\n",
    "top_200_cpgs_ktest = sort_slice(cpg_p_values, 200)\n",
    "top_300_cpgs_ktest = sort_slice(cpg_p_values, 300)\n",
    "def write_results(list_to_write, n, form):\n",
    "    with open(f\"feature_selection_results/{form}_cpgs_{str(n)}.txt\", 'w') as file:\n",
    "        if len(list_to_write) == 0:\n",
    "            file.write('Nan')\n",
    "            raise Warning('Passed list is empty')\n",
    "        elif type(list_to_write[0]) == tuple:\n",
    "            for item in sort_slice(list_to_write, n):\n",
    "                file.write(item[0] + '\\n')\n",
    "        elif type(list_to_write[0]) == str:\n",
    "            for item in list_to_write:\n",
    "                file.write(item + '\\n')\n",
    "        else:\n",
    "            raise TypeError(\n",
    "                f'incorrect type, list[str] and list[tuple(str, float)] supported only,'\n",
    "                f' but {type(list_to_write[0])} was passed')\n",
    "\n",
    "\n",
    "write_results(top_100_cpgs_ktest, 100, 'ktest')\n",
    "write_results(top_200_cpgs_ktest, 200, 'ktest')\n",
    "write_results(top_300_cpgs_ktest, 300, 'ktest')"
   ],
   "metadata": {
    "collapsed": false,
    "pycharm": {
     "name": "#%%\n",
     "is_executing": true
    }
   },
   "execution_count": null,
   "outputs": []
  },
  {
   "cell_type": "markdown",
   "source": [
    "### Отбор признаков с помощью `sklearn.SelectKBest` и функции отбора `f_classif`.\n",
    "#### Отбор `100`, `200`, `300` признаков для дальнейшего обучения модели."
   ],
   "metadata": {
    "collapsed": false,
    "pycharm": {
     "name": "#%% md\n"
    }
   }
  },
  {
   "cell_type": "code",
   "execution_count": null,
   "outputs": [],
   "source": [
    "from sklearn.feature_selection import SelectKBest, f_classif\n",
    "\n",
    "df_x = df_x.drop('status', axis=1)\n",
    "\n",
    "\n",
    "def select_n_best(x, y, n):\n",
    "    selector_k = SelectKBest(score_func=f_classif, k=n)\n",
    "    selector_k.fit(x, y)\n",
    "    cols = selector_k.get_support(indices=True)\n",
    "    return cols"
   ],
   "metadata": {
    "collapsed": false,
    "pycharm": {
     "name": "#%%\n",
     "is_executing": true
    }
   }
  },
  {
   "cell_type": "code",
   "execution_count": null,
   "outputs": [],
   "source": [
    "top_100_cpgs_skb = list(df_x.columns[select_n_best(df_x, df_y, 100)])\n",
    "top_200_cpgs_skb = list(df_x.columns[select_n_best(df_x, df_y, 200)])\n",
    "top_300_cpgs_skb = list(df_x.columns[select_n_best(df_x, df_y, 300)])"
   ],
   "metadata": {
    "collapsed": false,
    "pycharm": {
     "name": "#%%\n",
     "is_executing": true
    }
   }
  },
  {
   "cell_type": "code",
   "execution_count": null,
   "outputs": [],
   "source": [
    "write_results(top_100_cpgs_skb, 100, 'skb')\n",
    "write_results(top_200_cpgs_skb, 200, 'skb')\n",
    "write_results(top_300_cpgs_skb, 300, 'skb')"
   ],
   "metadata": {
    "collapsed": false,
    "pycharm": {
     "name": "#%%\n",
     "is_executing": true
    }
   }
  },
  {
   "cell_type": "markdown",
   "source": [
    "### Пересечение списков отобранных cpg с помощью вышеуказанных методов"
   ],
   "metadata": {
    "collapsed": false,
    "pycharm": {
     "name": "#%% md\n"
    }
   }
  },
  {
   "cell_type": "code",
   "execution_count": null,
   "outputs": [],
   "source": [
    "def intersection(ktest, skb):\n",
    "    k_cpgs = []\n",
    "    for item in ktest:\n",
    "        k_cpgs.append(item[0])\n",
    "\n",
    "    common_cpgs = [cpg for cpg in skb if cpg in k_cpgs]\n",
    "    return common_cpgs"
   ],
   "metadata": {
    "collapsed": false,
    "pycharm": {
     "name": "#%%\n",
     "is_executing": true
    }
   }
  },
  {
   "cell_type": "code",
   "execution_count": null,
   "outputs": [],
   "source": [
    "write_results(intersection(top_100_cpgs_ktest, top_100_cpgs_skb), 100, 'intersection')\n",
    "write_results(intersection(top_100_cpgs_ktest, top_100_cpgs_skb), 200, 'intersection')\n",
    "write_results(intersection(top_100_cpgs_ktest, top_100_cpgs_skb), 300, 'intersection')"
   ],
   "metadata": {
    "collapsed": false,
    "pycharm": {
     "name": "#%%\n",
     "is_executing": true
    }
   }
  },
  {
   "cell_type": "code",
   "execution_count": null,
   "outputs": [],
   "source": [],
   "metadata": {
    "collapsed": false,
    "pycharm": {
     "name": "#%%",
     "is_executing": true
    }
   }
  }
 ],
 "metadata": {
  "kernelspec": {
   "display_name": "Python 3",
   "language": "python",
   "name": "python3"
  },
  "language_info": {
   "codemirror_mode": {
    "name": "ipython",
    "version": 2
   },
   "file_extension": ".py",
   "mimetype": "text/x-python",
   "name": "python",
   "nbconvert_exporter": "python",
   "pygments_lexer": "ipython2",
   "version": "2.7.6"
  }
 },
 "nbformat": 4,
 "nbformat_minor": 0
}